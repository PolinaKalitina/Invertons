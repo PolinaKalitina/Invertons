{
 "cells": [
  {
   "cell_type": "markdown",
   "metadata": {},
   "source": [
    "Вытащила стол6ец с ID инвертонов из та6лицы Supplement, сохранила как invertonsID.txt Написала скрипт для вычленения уникальных ID:"
   ]
  },
  {
   "cell_type": "code",
   "execution_count": null,
   "metadata": {},
   "outputs": [],
   "source": [
    "# Создаем множество для хранения уникальных основных ID\n",
    "unique_ids = set()\n",
    "\n",
    "# Чтение ID из файла\n",
    "with open(\"invertonID.txt\", \"r\") as file:\n",
    "    for line in file:\n",
    "        # Удаляем пробелы и символы новой строки\n",
    "        id_ranges = line.strip()\n",
    "        # Разделяем строку по символу ':'\n",
    "        genome_id, _ = id_ranges.split(':')\n",
    "        # Добавляем основной ID в множество\n",
    "        unique_ids.add(genome_id)\n",
    "\n",
    "# Преобразуем множество в список, если нужно\n",
    "unique_id_list = list(unique_ids)\n",
    "\n",
    "# Сохраняем уникальные основные ID в новый текстовый файл\n",
    "with open(\"invertonID_unique.txt\", \"w\") as output_file:\n",
    "    for unique_id in unique_id_list:\n",
    "        output_file.write(unique_id + \"\\n\")\n"
   ]
  },
  {
   "cell_type": "code",
   "execution_count": null,
   "metadata": {},
   "outputs": [],
   "source": []
  },
  {
   "cell_type": "markdown",
   "metadata": {},
   "source": [
    "Список полученных ID использовала для скачивания при помощи entrez, цикл написала в скрипте в питоне. "
   ]
  },
  {
   "cell_type": "code",
   "execution_count": null,
   "metadata": {},
   "outputs": [],
   "source": [
    "#!/usr/bin/env python3\n",
    "import time\n",
    "from Bio import Entrez\n",
    "\n",
    "# Адрес электронной почты\n",
    "Entrez.email = \"iduvzavtra@gmail.com\"\n",
    "\n",
    "# Чтение ID и участков из файла\n",
    "with open(\"invertonID_unique.txt\", \"r\") as file:\n",
    "    for line in file:\n",
    "        genome_id = line.strip()\n",
    "\n",
    "        # Загрузка последовательности\n",
    "        handle = Entrez.efetch(db=\"nucleotide\", id=genome_id, rettype=\"fasta\", retmode=\"text\")\n",
    "        genome_sequence = handle.read()\n",
    "        handle.close()\n",
    "\n",
    "        # Сохранение последовательность в файл\n",
    "        with open(f\"{genome_id}.fasta\", \"w\") as output_handle:\n",
    "            output_handle.write(genome_sequence)\n",
    "\n",
    "        # Задержка после обработки каждого ID\n",
    "        time.sleep(5)"
   ]
  },
  {
   "cell_type": "markdown",
   "metadata": {},
   "source": [
    "**Косяк:** не указала папку для сохранения, валятся на ра6очий стол, руками перетаскиваю в entrez_req. Сильно недооценила время выполнения. Запуск из командной строки Windows."
   ]
  },
  {
   "cell_type": "code",
   "execution_count": null,
   "metadata": {},
   "outputs": [],
   "source": [
    "#!/usr/bin/env python3\n",
    "import os\n",
    "import time\n",
    "from Bio import Entrez\n",
    "\n",
    "# Адрес электронной почты\n",
    "Entrez.email = \"iduvzavtra@gmail.com\"\n",
    "\n",
    "# Папка для сохранения загруженных файлов\n",
    "output_folder = \"entrez_req\"\n",
    "\n",
    "# Чтение ID из файла\n",
    "with open(\"invertonID_unique.txt\", \"r\") as file:\n",
    "    for line in file:\n",
    "        genome_id = line.strip()\n",
    "        fasta_file_path = os.path.join(output_folder, f\"{genome_id}.fasta\")\n",
    "\n",
    "        # Проверка, существует ли файл\n",
    "        if os.path.exists(fasta_file_path):\n",
    "            print(f\"Файл {fasta_file_path} уже существует. Пропускаем загрузку для ID {genome_id}.\")\n",
    "            continue  # Пропускаем загрузку, если файл уже существует\n",
    "\n",
    "        # Загрузка последовательности\n",
    "        handle = Entrez.efetch(db=\"nucleotide\", id=genome_id, rettype=\"fasta\", retmode=\"text\")\n",
    "        genome_sequence = handle.read()\n",
    "        handle.close()\n",
    "\n",
    "        # Сохранение последовательности в файл\n",
    "        with open(fasta_file_path, \"w\") as output_handle:\n",
    "            output_handle.write(genome_sequence)\n",
    "\n",
    "        # Задержка после обработки каждого ID\n",
    "        time.sleep(5)"
   ]
  },
  {
   "cell_type": "markdown",
   "metadata": {},
   "source": [
    "Исправленная версия - проверяется, есть ли файл в папке, и скачивание идет сразу в папку."
   ]
  },
  {
   "cell_type": "markdown",
   "metadata": {},
   "source": [
    "Написала код для вырезания фрагментов. Настроено исключение для файлов, которые еще не скачались, хорошо 6ы такие ID выписывать в отдельный txt, но увы, это не 6ыло продумано."
   ]
  },
  {
   "cell_type": "code",
   "execution_count": null,
   "metadata": {},
   "outputs": [],
   "source": [
    "import os\n",
    "from Bio import SeqIO\n",
    "\n",
    "input_folder = \"entrez_req\"  # Папка, где находятся исходные FASTA-файлы\n",
    "output_folder = \"invertons_cut\"  # Папка, куда будут сохраняться вырезанные фрагменты\n",
    "\n",
    "with open(\"invertonID.txt\", \"r\") as file:\n",
    "    for line in file:\n",
    "        id_ranges = line.strip()  \n",
    "        genome_id, ranges = id_ranges.split(':')\n",
    "        positions = ranges.split('-')\n",
    "\n",
    "        fasta_file_path = os.path.join(input_folder, f\"{genome_id}.fasta\")\n",
    "        \n",
    "        # Попробуем открыть файл, если он не существует, пропустим этот ID\n",
    "        try:\n",
    "            with open(fasta_file_path, \"r\") as fasta_file:\n",
    "                fasta_record = SeqIO.read(fasta_file, \"fasta\")\n",
    "                full_sequence = fasta_record.seq\n",
    "\n",
    "            # Получаем и сохраняем участки с учетом смещения\n",
    "            for i in range(0, len(positions), 2):  \n",
    "                start = int(positions[i]) - 20000  \n",
    "                end = int(positions[i + 1]) + 20000 \n",
    "\n",
    "                # Извлекаем последовательность\n",
    "                fragment = full_sequence[start:end]\n",
    "\n",
    "                # Сохраняем последовательности в отдельные файлы в выходной папке\n",
    "                fragment_file_path = os.path.join(output_folder, f\"{genome_id}_{start}_{end}.fasta\")\n",
    "                with open(fragment_file_path, \"w\") as output_handle:\n",
    "                    output_handle.write(f\">fragment_{genome_id}_{start}_{end}\\n\")\n",
    "                    output_handle.write(str(fragment) + \"\\n\")\n",
    "        \n",
    "        except FileNotFoundError:\n",
    "            print(f\"Файл {fasta_file_path} не найден. Пропускаем ID {genome_id}.\")"
   ]
  },
  {
   "cell_type": "markdown",
   "metadata": {},
   "source": [
    "**Версия 2.0:** код упал, потому что я не удалила файл с 6олее раннней попытки с длинным именем, вписала проверку на наличие фрагмента и вывод ID в отдельный файл. Теперь из одного ID один файл - только по минимальной имаксимальной координате."
   ]
  },
  {
   "cell_type": "code",
   "execution_count": null,
   "metadata": {},
   "outputs": [],
   "source": [
    "import os\n",
    "from Bio import SeqIO\n",
    "\n",
    "input_folder = \"entrez_req\"  # Папка, где находятся исходные FASTA-файлы\n",
    "output_folder = \"invertons_cut\"  # Папка, куда будут сохраняться вырезанные фрагменты\n",
    "missing_ids_file = \"missing_ids.txt\"  # Файл для записи ID, для которых не найдены FASTA\n",
    "\n",
    "# Получаем список существующих файлов фрагментов\n",
    "existing_fragments = set(os.listdir(output_folder))\n",
    "\n",
    "# Открываем файл для записи ID, для которых не найдены FASTA\n",
    "with open(missing_ids_file, \"w\") as missing_ids:\n",
    "    # Читаем ID из файла \"invertonID.txt\"\n",
    "    with open(\"invertonID.txt\", \"r\") as file:\n",
    "        for line in file:\n",
    "            id_ranges = line.strip()\n",
    "            genome_id, ranges = id_ranges.split(':')\n",
    "            positions = list(map(int, ranges.split('-')))  # Преобразуем строки в целые числа\n",
    "\n",
    "            fasta_file_path = os.path.join(input_folder, f\"{genome_id}.fasta\")\n",
    "\n",
    "            # Проверяем, существует ли FASTA файл\n",
    "            try:\n",
    "                with open(fasta_file_path, \"r\") as fasta_file:\n",
    "                    fasta_record = SeqIO.read(fasta_file, \"fasta\")\n",
    "                    full_sequence = fasta_record.seq\n",
    "            except FileNotFoundError:\n",
    "                missing_ids.write(genome_id + \"\\n\")\n",
    "                continue  # Пропускаем, если файл не найден\n",
    "\n",
    "            # Находим минимальное и максимальное значение координат\n",
    "            start = min(positions) - 20000\n",
    "            end = max(positions) + 20000\n",
    "            \n",
    "            fragment_file_name = f\"{genome_id}_{start}_{end}.fasta\"\n",
    "            \n",
    "            # Если фрагмент уже существует, пропускаем\n",
    "            if fragment_file_name in existing_fragments:\n",
    "                continue\n",
    "            \n",
    "            # Извлекаем последовательность\n",
    "            fragment = full_sequence[start:end]\n",
    "\n",
    "            # Сохраняем последовательность в отдельные файлы в выходной папке\n",
    "            fragment_file_path = os.path.join(output_folder, fragment_file_name)\n",
    "            with open(fragment_file_path, \"w\") as output_handle:\n",
    "                output_handle.write(f\">fragment_{genome_id}_{start}_{end}\\n\")\n",
    "                output_handle.write(str(fragment) + \"\\n\")"
   ]
  },
  {
   "cell_type": "markdown",
   "metadata": {},
   "source": []
  },
  {
   "cell_type": "code",
   "execution_count": null,
   "metadata": {},
   "outputs": [],
   "source": []
  }
 ],
 "metadata": {
  "language_info": {
   "name": "python"
  }
 },
 "nbformat": 4,
 "nbformat_minor": 2
}
