{
 "cells": [
  {
   "cell_type": "markdown",
   "metadata": {},
   "source": [
    "# Association of inversion and defense systems - the pipeline"
   ]
  },
  {
   "cell_type": "markdown",
   "metadata": {},
   "source": [
    "## Data selection and extraction"
   ]
  },
  {
   "cell_type": "markdown",
   "metadata": {},
   "source": [
    "### Downloading genomes"
   ]
  },
  {
   "cell_type": "markdown",
   "metadata": {},
   "source": [
    "Selection of unique genome IDs from Chanin et. al Supplement table 41586_2024_7970_MOESM6_ESM (list 1):"
   ]
  },
  {
   "cell_type": "code",
   "execution_count": null,
   "metadata": {},
   "outputs": [],
   "source": [
    "unique_ids = set()\n",
    "\n",
    "with open(\"invertonID.txt\", \"r\") as file:\n",
    "    for line in file:\n",
    "        id_ranges = line.strip()\n",
    "        genome_id, _ = id_ranges.split(':')\n",
    "        unique_ids.add(genome_id)\n",
    "\n",
    "unique_id_list = list(unique_ids)\n",
    "\n",
    "with open(\"invertonID_unique.txt\", \"w\") as output_file:\n",
    "    for unique_id in unique_id_list:\n",
    "        output_file.write(unique_id + \"\\n\")\n"
   ]
  },
  {
   "cell_type": "markdown",
   "metadata": {},
   "source": [
    "Script for downloading genomes from NCBI:"
   ]
  },
  {
   "cell_type": "code",
   "execution_count": null,
   "metadata": {},
   "outputs": [],
   "source": [
    "#!/usr/bin/env python3\n",
    "import os\n",
    "import time\n",
    "from Bio import Entrez\n",
    "\n",
    "Entrez.email = \"YOUREMAIL@gmail.com\"\n",
    "\n",
    "output_folder = \"entrez_req\"\n",
    "\n",
    "with open(\"invertonID_unique.txt\", \"r\") as file:\n",
    "    for line in file:\n",
    "        genome_id = line.strip()\n",
    "        fasta_file_path = os.path.join(output_folder, f\"{genome_id}.fasta\")\n",
    "\n",
    "        if os.path.exists(fasta_file_path):\n",
    "            print(f\"Файл {fasta_file_path} уже существует. Пропускаем загрузку для ID {genome_id}.\")\n",
    "            continue\n",
    "\n",
    "        handle = Entrez.efetch(db=\"nucleotide\", id=genome_id, rettype=\"fasta\", retmode=\"text\")\n",
    "        genome_sequence = handle.read()\n",
    "        handle.close()\n",
    "\n",
    "        with open(fasta_file_path, \"w\") as output_handle:\n",
    "            output_handle.write(genome_sequence)\n",
    "\n",
    "        time.sleep(5)"
   ]
  },
  {
   "cell_type": "markdown",
   "metadata": {},
   "source": [
    "Additional chuck of code for searching and downloading missed genomes:"
   ]
  },
  {
   "cell_type": "code",
   "execution_count": null,
   "metadata": {},
   "outputs": [],
   "source": [
    "import os\n",
    "\n",
    "input_folder = \"entrez_req\"  # Папка, где находятся FASTA-файлы\n",
    "id_list_file = \"invertonID_unique.txt\"  # Файл со списком ID\n",
    "missing_ids_file = \"missing_ids.txt\"  # Файл для записи ID, для которых не найдены FASTA\n",
    "\n",
    "with open(missing_ids_file, \"w\") as missing_ids:\n",
    "    with open(id_list_file, \"r\") as file:\n",
    "        for line in file:\n",
    "            genome_id = line.strip()\n",
    "            fasta_file_path = os.path.join(input_folder, f\"{genome_id}.fasta\")\n",
    "\n",
    "            if not os.path.isfile(fasta_file_path):\n",
    "                missing_ids.write(genome_id + \"\\n\")\n"
   ]
  },
  {
   "cell_type": "markdown",
   "metadata": {},
   "source": [
    "Concatenated all the sequences into one file with  ```cat dir/*.fna > concatenated.fna```"
   ]
  },
  {
   "cell_type": "markdown",
   "metadata": {},
   "source": [
    "### Extracting 40 kb fragments"
   ]
  },
  {
   "cell_type": "markdown",
   "metadata": {},
   "source": [
    "Selection of unique genome IDs from Chanin et. al Supplement table 41586_2024_7970_MOESM6_ESM (list 1). Extracted begining and end coordinated of invertons, converted into 40kb fragment coordinates."
   ]
  },
  {
   "cell_type": "code",
   "execution_count": null,
   "metadata": {},
   "outputs": [],
   "source": [
    "awk -F '[: -]' '{start=$2+20000; end=$5+20000; print $1, start, end}' ids_coords_raw.txt > coords.txt # ids_coords_raw.txt - стол6ик из 41586_2024_7970_MOESM6_ESM(1) sheet 1\n",
    "awk -F '[: -]' '{start=$2-20000; end=$5+20000; if (start < 0) start = 0; print $1, start, end}' ids_coords_raw.txt > coords.txt"
   ]
  },
  {
   "cell_type": "code",
   "execution_count": null,
   "metadata": {},
   "outputs": [],
   "source": [
    "wc -l coords.txt\n",
    "17550 coords.txt\n",
    "sort coords.txt | uniq > cooreds_uniq.txt\n",
    "wc -l cooreds_uniq.txt\n",
    "4622 cooreds_uniq.txt"
   ]
  },
  {
   "cell_type": "markdown",
   "metadata": {},
   "source": [
    "Cut 40 kb fragments from downloaded genomes."
   ]
  },
  {
   "cell_type": "code",
   "execution_count": null,
   "metadata": {},
   "outputs": [],
   "source": [
    "from Bio import SeqIO\n",
    "\n",
    "def extract_fragments(coords_file, fasta_file, output_file):\n",
    "    sequences = SeqIO.to_dict(SeqIO.parse(fasta_file, \"fasta\"))\n",
    "\n",
    "    with open(coords_file, 'r') as coords, open(output_file, 'w') as output:\n",
    "        for line in coords:\n",
    "            parts = line.strip().split()\n",
    "            if len(parts) != 3:\n",
    "                print(f\"Пропущена строка с неправильным форматом: {line}\")\n",
    "                continue\n",
    "\n",
    "            seq_id, start, end = parts\n",
    "            start = int(start)\n",
    "            end = int(end)\n",
    "\n",
    "            if seq_id in sequences:\n",
    "                fragment = sequences[seq_id].seq[start - 1:end]\n",
    "                new_header = f\">{seq_id}_{start}_{end}\"\n",
    "                output.write(f\"{new_header}\\n{fragment}\\n\")\n",
    "            else:\n",
    "                print(f\"Последовательность с ID {seq_id} не найдена в FASTA-файле.\")"
   ]
  },
  {
   "cell_type": "code",
   "execution_count": null,
   "metadata": {},
   "outputs": [],
   "source": [
    "coords_file = \"../cooreds_uniq.txt\"\n",
    "fasta_file = \"../isolates_combined.fasta\"\n",
    "output_file = \"../isolates_combined_cut_3.fasta\" # с 1 координатой 6ольше нуля\n",
    "\n",
    "extract_fragments(coords_file, fasta_file, output_file)"
   ]
  },
  {
   "cell_type": "markdown",
   "metadata": {},
   "source": [
    "I checked by extracting the cut fragments for one genome and searching for them in the genome itself - everything seems ok."
   ]
  },
  {
   "cell_type": "markdown",
   "metadata": {},
   "source": [
    "## Annotation"
   ]
  },
  {
   "cell_type": "markdown",
   "metadata": {},
   "source": [
    "### Integrase search"
   ]
  },
  {
   "cell_type": "markdown",
   "metadata": {},
   "source": [
    "In InterPro, I pulled out tsv files on request for integrase and transposase."
   ]
  },
  {
   "cell_type": "code",
   "execution_count": null,
   "metadata": {},
   "outputs": [],
   "source": [
    "grep -o '^[^\\t]*' ./SearchResults-integrase.tsv > accs_int.txt\n",
    "awk '/[0-9]/' accs_int.txt > filtered_accs_int.txt\n",
    "sed 's/ .*//' filtered_accs_int.txt > final_accs_int.txt\n",
    "awk '/[0-9]/' final_accs_int.txt > ffif.txt\n",
    "awk -F '\\t' '{gsub(/\\$/, \"\"); print $1}' ffif.txt > accesions_integrases.txt\n",
    "wc -l accesions_integrases.txt\n",
    "297 accesions_integrases.txt # совпадает с исходнйо выдачей на сайте\n",
    "\n",
    "grep -F -f accesions_integrases.txt results.txt > matched_lines.txt # все интегразы в фрагментах геномов\n",
    "wc -l matched_lines.txt\n",
    "266 matched_lines.txt\n",
    "awk -F '\\t' '{print $1}' ./intersect_deffinder_uniq.tsv > invs_wdefsys_ids.txt # вытащила защитные системы с инвертонами, только ID геномов\n",
    "grep -F -f invs_wdefsys_ids.txt matched_lines.txt > if_invertases.txt\n",
    "\n",
    "head if_invertases.txt\n",
    "Phage_integrase      PF00589.27 NC_008533.2_438806_479431_19 -            3.7e-25   89.1   0.0   5.1e-25   88.6   0.0   1.2   1   0   0   1   1   1   1 Phage integrase family\n",
    "Phage_int_SAM_4      PF13495.12 NC_008533.2_438806_479431_19 -             0.0077   17.0   0.1     0.022   15.6   0.1   1.8   1   0   0   1   1   1   1 Phage integrase, N-terminal SAM-like domain\n",
    "\n",
    "wc -l if_invertases.txt\n",
    "2 if_invertases.txt"
   ]
  },
  {
   "cell_type": "markdown",
   "metadata": {},
   "source": [
    "#### Defense finder"
   ]
  },
  {
   "cell_type": "markdown",
   "metadata": {},
   "source": [
    "Annotating with Defense finder."
   ]
  },
  {
   "cell_type": "code",
   "execution_count": null,
   "metadata": {},
   "outputs": [],
   "source": [
    "defense-finder run isolates_combined_cut.fasta --out-dir ./deffinder_\n",
    "wc -l ./deffinder_/isolates_combined_cut_3_defense_finder_genes.tsv\n",
    "701 ./deffinder_/isolates_combined_cut_3_defense_finder_genes.tsv"
   ]
  },
  {
   "cell_type": "markdown",
   "metadata": {
    "vscode": {
     "languageId": "plaintext"
    }
   },
   "source": [
    "Selected coordinates of annotated proteins, intersected coordinate sets."
   ]
  },
  {
   "cell_type": "code",
   "execution_count": null,
   "metadata": {},
   "outputs": [],
   "source": [
    "awk -F'\\t' 'BEGIN { OFS=\"\\t\" } NR > 1 {\n",
    "    print $2, $5, $3\n",
    "}' ./deffinder_/isolates_combined_cut_3_defense_finder_genes.tsv > annot_deffinder.txt'\n",
    "awk -F' # ' 'BEGIN { OFS=\"\\t\" } {\n",
    "    print $1, $2, $3\n",
    "}' ./matched_headers_.txt > headrs_for_annot.txt'\n",
    "join -1 1 -2 1 sorted_headrs_for_annot.txt sorted_annot_deffinder.txt | awk 'BEGIN { OFS=\"\\t\" } { print $1, $2, $3, $4, $5 }' > merged_file.tsv\n",
    "\n",
    "awk -F'\\t' 'BEGIN { OFS=\"\\t\" } {\n",
    "    split($1, id, \"_\");\n",
    "    base_id = id[1] \"_\" id[2];\n",
    "    offset = id[3];\n",
    "    start = $2 + offset;\n",
    "    end = $3 + offset;\n",
    "    print base_id, start, end, $4, $5\n",
    "}' merged_file.tsv > updated_file.tsv'\n",
    "wc -l updated_file.tsv\n",
    "700 updated_file.tsv\n",
    "wc -l intersect_deffinder.txt\n",
    "27 intersect_deffinder.txt\n",
    "wc -l intersect_deffinder_uniq.tsv\n",
    "21 intersect_deffinder_uniq.tsv"
   ]
  },
  {
   "cell_type": "markdown",
   "metadata": {},
   "source": [
    "#### Padloc"
   ]
  },
  {
   "cell_type": "markdown",
   "metadata": {},
   "source": [
    "Annotating with Padloc:"
   ]
  },
  {
   "cell_type": "code",
   "execution_count": null,
   "metadata": {},
   "outputs": [],
   "source": [
    "padloc --fna ./isolates_combined_cut.fasta --outdir ./padloc_ --cpu 4 # директорию нужно создать заранее"
   ]
  },
  {
   "cell_type": "markdown",
   "metadata": {},
   "source": [
    "Selected coords of annotated proteins."
   ]
  },
  {
   "cell_type": "code",
   "execution_count": null,
   "metadata": {},
   "outputs": [],
   "source": [
    "awk -F',' 'BEGIN { OFS=\"\\t\" } NR > 1 {\n",
    "    split($2, seqid, \"_\");\n",
    "    start = seqid[3] + $12;\n",
    "    end = seqid[3] + $13;\n",
    "    print seqid[1] \"_\" seqid[2], start, end, $3, $6, $14\n",
    "}' ./padloc_/isolates_combined_cut_3.fasta_padloc.csv > padloc_cut_2.txt'\n",
    "wc -l padloc_cut_2.txt\n",
    "61 padloc_cut_2.txt\n",
    "wc -l padloc_cut_uniq_2.txt\n",
    "58 padloc_cut_uniq_2.txt"
   ]
  },
  {
   "cell_type": "markdown",
   "metadata": {},
   "source": [
    "Intersected coordinate sets."
   ]
  },
  {
   "cell_type": "code",
   "execution_count": null,
   "metadata": {},
   "outputs": [],
   "source": [
    "bedtools intersect -a padloc_cut_uniq_2.txt -b coords_invertons_uniq.txt -wa -wb > intersect_padloc.txt\n",
    "wc -l intersect_padloc.txt\n",
    "1 intersect_padloc.txt # ду6лируется с deffinder"
   ]
  },
  {
   "cell_type": "markdown",
   "metadata": {},
   "source": [
    "#### Prodigal + HMMer"
   ]
  },
  {
   "cell_type": "markdown",
   "metadata": {
    "vscode": {
     "languageId": "plaintext"
    }
   },
   "source": [
    "ORF prediction and annotation."
   ]
  },
  {
   "cell_type": "code",
   "execution_count": null,
   "metadata": {},
   "outputs": [],
   "source": [
    "prodigal -i isolates_combined_cut.fasta -o isolates_proteins.gbk -a isolates_proteins_prodigal.faa -p meta\n",
    "hmmscan --domtblout results.txt ./Pfam/Pfam-A.hmm isolates_proteins_prodigal.faa"
   ]
  },
  {
   "cell_type": "markdown",
   "metadata": {},
   "source": [
    "Extracting coordinates of annotated genes."
   ]
  },
  {
   "cell_type": "code",
   "execution_count": null,
   "metadata": {},
   "outputs": [],
   "source": [
    "grep \"^>\" ./isolates_proteins_prodigal.faa | sed 's/^>//' > isolates_proteins_coords_interm.txt\n",
    "awk -F'[ #]+' '{\n",
    "    split($1, a, \"_\");\n",
    "    start_pos = a[3];\n",
    "    abs_start = $2 + start_pos;\n",
    "    abs_end = $3 + start_pos;\n",
    "    print a[1] \"_\" a[2] \"\\t\" abs_start \"\\t\" abs_end \"\\t\" $4 \"\\t\" $1\n",
    "}' isolates_proteins_coords_interm.txt > isolates_proteins_coords.txt\n",
    "# ./isolates_proteins_prodigal.faa аннотированные продигалом 6елки в 40 к6 фрагментах fasta\n",
    "wc -l isolates_proteins_coords.txt\n",
    "7768 isolates_proteins_coords.txt"
   ]
  },
  {
   "cell_type": "code",
   "execution_count": null,
   "metadata": {},
   "outputs": [],
   "source": [
    "wc -l results.txt # файл из HMM-er'а\n",
    "36754 results.txt"
   ]
  },
  {
   "cell_type": "markdown",
   "metadata": {},
   "source": [
    "Intersecting coordinate sets."
   ]
  },
  {
   "cell_type": "code",
   "execution_count": null,
   "metadata": {},
   "outputs": [],
   "source": [
    "bedtools intersect -a isolates_proteins_coords.txt -b coords_invertons_uniq.txt -wa -wb > intersect_prots.txt"
   ]
  },
  {
   "cell_type": "code",
   "execution_count": null,
   "metadata": {},
   "outputs": [],
   "source": [
    "grep -F -f <(awk '{print $3}' intersect_prots.txt) results.txt > intersected_prots.txt\n",
    "wc -l intersected_prots.txt\n",
    "125 intersected_prots.txt"
   ]
  },
  {
   "cell_type": "markdown",
   "metadata": {},
   "source": [
    "Aligning intersected proteins."
   ]
  },
  {
   "cell_type": "code",
   "execution_count": null,
   "metadata": {},
   "outputs": [],
   "source": [
    "mafft --auto top_genes_proteins.fasta > aligned_proteins.fasta"
   ]
  },
  {
   "cell_type": "markdown",
   "metadata": {},
   "source": [
    "Clustering proteins."
   ]
  },
  {
   "cell_type": "code",
   "execution_count": null,
   "metadata": {},
   "outputs": [],
   "source": [
    "conda install -c bioconda mmseqs2\n",
    "mmseqs createdb top_genes_proteins.fasta proteinsDB\n",
    "mmseqs cluster proteinsDB clusterDB tmp --min-seq-id 0.8 -c 0.8 # повторила аналогичное с выровненными полседовательностями и мягким/жестким условием кластеризации, результаты одинаковые. Попро6овала с 0,3/0,7, ниже визуализация для него\n",
    "mmseqs createtsv proteinsDB proteinsDB clusterDB clusters.tsv"
   ]
  },
  {
   "cell_type": "code",
   "execution_count": null,
   "metadata": {},
   "outputs": [],
   "source": [
    "mmseqs easy-cluster top_genes_proteins.fasta clusterRes tmp --min-seq-id 0.5 -c 0.7 \n",
    "awk '$1 != $2' clusterRes_cluster.tsv > real_clusters.txt\n",
    "awk '{print $2}' real_clusters.txt  | sort | uniq -c | sort -nr > cluster_frequency.txt\n",
    "# все по одному("
   ]
  },
  {
   "cell_type": "markdown",
   "metadata": {
    "vscode": {
     "languageId": "plaintext"
    }
   },
   "source": [
    "### Cluster visualization"
   ]
  },
  {
   "cell_type": "code",
   "execution_count": null,
   "metadata": {},
   "outputs": [],
   "source": [
    "!{sys.executable} -m pip install networkx"
   ]
  },
  {
   "cell_type": "code",
   "execution_count": null,
   "metadata": {},
   "outputs": [],
   "source": [
    "import networkx as nx\n",
    "import matplotlib.pyplot as plt"
   ]
  },
  {
   "cell_type": "code",
   "execution_count": null,
   "metadata": {},
   "outputs": [],
   "source": [
    "edges = []\n",
    "with open(\"clusters.tsv\", \"r\") as f:\n",
    "    for line in f:\n",
    "        id1, id2 = line.strip().split()[:2]\n",
    "        if id1 != id2:\n",
    "            edges.append((id1, id2))\n",
    "G = nx.Graph()\n",
    "G.add_edges_from(edges)\n",
    "G.remove_nodes_from(list(nx.isolates(G)))\n",
    "\n",
    "plt.figure(figsize=(12, 10))\n",
    "pos = nx.spring_layout(G, k=0.5)\n",
    "nx.draw(\n",
    "    G,\n",
    "    pos,\n",
    "    with_labels=True,\n",
    "    node_size=50,\n",
    "    font_size=8,\n",
    "    alpha=0.7,\n",
    "    node_color=\"skyblue\",\n",
    "    edge_color=\"gray\",\n",
    "    width=0.5, \n",
    ")\n",
    "plt.title(\"Protein clusters from MMseqs2 (excluding self-clusters)\")\n",
    "plt.tight_layout()\n",
    "plt.savefig(\"protein_clusters_filtered.png\", dpi=300, bbox_inches=\"tight\")\n",
    "plt.show()"
   ]
  },
  {
   "cell_type": "markdown",
   "metadata": {},
   "source": [
    "Extracted the necessary sequences from clusters on 2. They are not translated by coordinates, but it is unclear by domains, many are defined, but there are no coordinates. Extracted files from Prodigal in txt, ran hmmer again.\n",
    "\n",
    "All from cluster on 6 are shufflons, N-ternminus."
   ]
  },
  {
   "cell_type": "code",
   "execution_count": null,
   "metadata": {},
   "outputs": [],
   "source": [
    "hmmscan --domtblout self_double_results.txt ./Pfam/Pfam-A.hmm ./self_double.txt"
   ]
  },
  {
   "cell_type": "markdown",
   "metadata": {},
   "source": [
    "## Invertons within defense genes"
   ]
  },
  {
   "cell_type": "markdown",
   "metadata": {},
   "source": [
    "### Invertons within defense genes: relative location"
   ]
  },
  {
   "cell_type": "code",
   "execution_count": 1,
   "metadata": {},
   "outputs": [],
   "source": [
    "import pandas as pd"
   ]
  },
  {
   "cell_type": "code",
   "execution_count": null,
   "metadata": {},
   "outputs": [],
   "source": [
    "pos = pd.read_csv('./intersect_deffinder_uniq.tsv', sep='\\t', names=['ID', 'start_prot', 'end_prot', 'System', 'Protein', 'start_inv', 'end_inv', 'inv_pos'])\n"
   ]
  },
  {
   "cell_type": "code",
   "execution_count": 6,
   "metadata": {},
   "outputs": [
    {
     "data": {
      "text/html": [
       "<div>\n",
       "<style scoped>\n",
       "    .dataframe tbody tr th:only-of-type {\n",
       "        vertical-align: middle;\n",
       "    }\n",
       "\n",
       "    .dataframe tbody tr th {\n",
       "        vertical-align: top;\n",
       "    }\n",
       "\n",
       "    .dataframe thead th {\n",
       "        text-align: right;\n",
       "    }\n",
       "</style>\n",
       "<table border=\"1\" class=\"dataframe\">\n",
       "  <thead>\n",
       "    <tr style=\"text-align: right;\">\n",
       "      <th></th>\n",
       "      <th>ID</th>\n",
       "      <th>start_prot</th>\n",
       "      <th>end_prot</th>\n",
       "      <th>System</th>\n",
       "      <th>Protein</th>\n",
       "      <th>start_inv</th>\n",
       "      <th>end_inv</th>\n",
       "      <th>inv_pos</th>\n",
       "    </tr>\n",
       "  </thead>\n",
       "  <tbody>\n",
       "    <tr>\n",
       "      <th>0</th>\n",
       "      <td>NC_008533.2</td>\n",
       "      <td>458169</td>\n",
       "      <td>459449</td>\n",
       "      <td>RM_Type_I</td>\n",
       "      <td>RM__Type_I_S_52</td>\n",
       "      <td>458806</td>\n",
       "      <td>459431</td>\n",
       "      <td>intragenic</td>\n",
       "    </tr>\n",
       "    <tr>\n",
       "      <th>1</th>\n",
       "      <td>NZ_AP025562.1</td>\n",
       "      <td>2222668</td>\n",
       "      <td>2223846</td>\n",
       "      <td>RM_Type_I</td>\n",
       "      <td>RM__Type_I_S_06</td>\n",
       "      <td>2222646</td>\n",
       "      <td>2223287</td>\n",
       "      <td>partial</td>\n",
       "    </tr>\n",
       "    <tr>\n",
       "      <th>2</th>\n",
       "      <td>NZ_AP025562.1</td>\n",
       "      <td>2224929</td>\n",
       "      <td>2225591</td>\n",
       "      <td>RM_Type_I</td>\n",
       "      <td>RM__Type_I_S_06</td>\n",
       "      <td>2224906</td>\n",
       "      <td>2225588</td>\n",
       "      <td>partial</td>\n",
       "    </tr>\n",
       "    <tr>\n",
       "      <th>3</th>\n",
       "      <td>NZ_CP007524.1</td>\n",
       "      <td>1116391</td>\n",
       "      <td>1117461</td>\n",
       "      <td>RM_Type_II</td>\n",
       "      <td>RM_Type_II__Type_II_REase09</td>\n",
       "      <td>1117051</td>\n",
       "      <td>1117107</td>\n",
       "      <td>intragenic</td>\n",
       "    </tr>\n",
       "    <tr>\n",
       "      <th>4</th>\n",
       "      <td>NZ_CP007593.1</td>\n",
       "      <td>474841</td>\n",
       "      <td>476388</td>\n",
       "      <td>RM_Type_I</td>\n",
       "      <td>RM__Type_I_S_52</td>\n",
       "      <td>474698</td>\n",
       "      <td>475058</td>\n",
       "      <td>partial</td>\n",
       "    </tr>\n",
       "    <tr>\n",
       "      <th>5</th>\n",
       "      <td>NZ_CP007647.1</td>\n",
       "      <td>56205</td>\n",
       "      <td>58907</td>\n",
       "      <td>RM_Type_IIG</td>\n",
       "      <td>RM_Type_IIG__Type_IIG_FAM_1.einsi_trimmed</td>\n",
       "      <td>56673</td>\n",
       "      <td>56957</td>\n",
       "      <td>intragenic</td>\n",
       "    </tr>\n",
       "    <tr>\n",
       "      <th>6</th>\n",
       "      <td>NZ_CP011348.1</td>\n",
       "      <td>284798</td>\n",
       "      <td>285973</td>\n",
       "      <td>RM_Type_I</td>\n",
       "      <td>RM__Type_I_S_06</td>\n",
       "      <td>285303</td>\n",
       "      <td>285992</td>\n",
       "      <td>partial</td>\n",
       "    </tr>\n",
       "    <tr>\n",
       "      <th>7</th>\n",
       "      <td>NZ_CP011368.1</td>\n",
       "      <td>150592</td>\n",
       "      <td>151839</td>\n",
       "      <td>RM_Type_I</td>\n",
       "      <td>RM__Type_I_S_51</td>\n",
       "      <td>151107</td>\n",
       "      <td>151856</td>\n",
       "      <td>partial</td>\n",
       "    </tr>\n",
       "    <tr>\n",
       "      <th>8</th>\n",
       "      <td>NZ_CP011591.1</td>\n",
       "      <td>3953251</td>\n",
       "      <td>3955731</td>\n",
       "      <td>PrrC</td>\n",
       "      <td>RM__Type_I_REases_FAM_0.einsi_trimmed</td>\n",
       "      <td>3952518</td>\n",
       "      <td>3953266</td>\n",
       "      <td>partial</td>\n",
       "    </tr>\n",
       "    <tr>\n",
       "      <th>9</th>\n",
       "      <td>NZ_CP012196.1</td>\n",
       "      <td>1743756</td>\n",
       "      <td>1744577</td>\n",
       "      <td>RM_Type_II</td>\n",
       "      <td>RM_Type_II__Type_II_REase32</td>\n",
       "      <td>1743912</td>\n",
       "      <td>1744253</td>\n",
       "      <td>intragenic</td>\n",
       "    </tr>\n",
       "    <tr>\n",
       "      <th>10</th>\n",
       "      <td>NZ_CP019562.1</td>\n",
       "      <td>535580</td>\n",
       "      <td>536743</td>\n",
       "      <td>RM_Type_I</td>\n",
       "      <td>RM__Type_I_S_06</td>\n",
       "      <td>536092</td>\n",
       "      <td>536749</td>\n",
       "      <td>partial</td>\n",
       "    </tr>\n",
       "    <tr>\n",
       "      <th>11</th>\n",
       "      <td>NZ_CP022386.1</td>\n",
       "      <td>1179038</td>\n",
       "      <td>1182514</td>\n",
       "      <td>RM_Type_IIG_2</td>\n",
       "      <td>RM_Type_IIG__Type_IIG_4</td>\n",
       "      <td>1178813</td>\n",
       "      <td>1179274</td>\n",
       "      <td>partial</td>\n",
       "    </tr>\n",
       "    <tr>\n",
       "      <th>12</th>\n",
       "      <td>NZ_CP022412.2</td>\n",
       "      <td>783909</td>\n",
       "      <td>785102</td>\n",
       "      <td>RM_Type_II</td>\n",
       "      <td>RM_Type_II__Type_II_MTases_FAM_42</td>\n",
       "      <td>783747</td>\n",
       "      <td>784134</td>\n",
       "      <td>partial</td>\n",
       "    </tr>\n",
       "    <tr>\n",
       "      <th>13</th>\n",
       "      <td>NZ_CP023501.1</td>\n",
       "      <td>204820</td>\n",
       "      <td>206019</td>\n",
       "      <td>RM_Type_I</td>\n",
       "      <td>RM__Type_I_S_51</td>\n",
       "      <td>205940</td>\n",
       "      <td>206230</td>\n",
       "      <td>partial</td>\n",
       "    </tr>\n",
       "    <tr>\n",
       "      <th>14</th>\n",
       "      <td>NZ_CP033021.1</td>\n",
       "      <td>451744</td>\n",
       "      <td>453504</td>\n",
       "      <td>RM_Type_I</td>\n",
       "      <td>RM__Type_I_S_51</td>\n",
       "      <td>452562</td>\n",
       "      <td>452634</td>\n",
       "      <td>intragenic</td>\n",
       "    </tr>\n",
       "    <tr>\n",
       "      <th>15</th>\n",
       "      <td>NZ_CP033021.1</td>\n",
       "      <td>746980</td>\n",
       "      <td>748173</td>\n",
       "      <td>RM_Type_I</td>\n",
       "      <td>RM__Type_I_S_01</td>\n",
       "      <td>747925</td>\n",
       "      <td>748033</td>\n",
       "      <td>intragenic</td>\n",
       "    </tr>\n",
       "    <tr>\n",
       "      <th>16</th>\n",
       "      <td>NZ_CP034841.1</td>\n",
       "      <td>705293</td>\n",
       "      <td>706480</td>\n",
       "      <td>RM_Type_I</td>\n",
       "      <td>RM__Type_I_S_51</td>\n",
       "      <td>705815</td>\n",
       "      <td>706564</td>\n",
       "      <td>partial</td>\n",
       "    </tr>\n",
       "    <tr>\n",
       "      <th>17</th>\n",
       "      <td>NZ_CP034841.1</td>\n",
       "      <td>706535</td>\n",
       "      <td>707794</td>\n",
       "      <td>RM_Type_I</td>\n",
       "      <td>RM__Type_I_S_04</td>\n",
       "      <td>705815</td>\n",
       "      <td>706564</td>\n",
       "      <td>partial</td>\n",
       "    </tr>\n",
       "    <tr>\n",
       "      <th>18</th>\n",
       "      <td>NZ_CP048837.1</td>\n",
       "      <td>1907663</td>\n",
       "      <td>1908868</td>\n",
       "      <td>RM_Type_I</td>\n",
       "      <td>RM__Type_I_S_06</td>\n",
       "      <td>1908142</td>\n",
       "      <td>1908886</td>\n",
       "      <td>partial</td>\n",
       "    </tr>\n",
       "    <tr>\n",
       "      <th>19</th>\n",
       "      <td>NZ_LR134404.1</td>\n",
       "      <td>1004881</td>\n",
       "      <td>1008288</td>\n",
       "      <td>RM_Type_IIG_2</td>\n",
       "      <td>RM_Type_IIG__Type_IIG_FAM_0.einsi_trimmed</td>\n",
       "      <td>1004538</td>\n",
       "      <td>1005252</td>\n",
       "      <td>partial</td>\n",
       "    </tr>\n",
       "    <tr>\n",
       "      <th>20</th>\n",
       "      <td>NZ_LR698957.1</td>\n",
       "      <td>1422093</td>\n",
       "      <td>1423004</td>\n",
       "      <td>RM_Type_I</td>\n",
       "      <td>RM__Type_I_S_04</td>\n",
       "      <td>1422995</td>\n",
       "      <td>1423422</td>\n",
       "      <td>partial</td>\n",
       "    </tr>\n",
       "  </tbody>\n",
       "</table>\n",
       "</div>"
      ],
      "text/plain": [
       "               ID  start_prot  end_prot         System  \\\n",
       "0     NC_008533.2      458169    459449      RM_Type_I   \n",
       "1   NZ_AP025562.1     2222668   2223846      RM_Type_I   \n",
       "2   NZ_AP025562.1     2224929   2225591      RM_Type_I   \n",
       "3   NZ_CP007524.1     1116391   1117461     RM_Type_II   \n",
       "4   NZ_CP007593.1      474841    476388      RM_Type_I   \n",
       "5   NZ_CP007647.1       56205     58907    RM_Type_IIG   \n",
       "6   NZ_CP011348.1      284798    285973      RM_Type_I   \n",
       "7   NZ_CP011368.1      150592    151839      RM_Type_I   \n",
       "8   NZ_CP011591.1     3953251   3955731           PrrC   \n",
       "9   NZ_CP012196.1     1743756   1744577     RM_Type_II   \n",
       "10  NZ_CP019562.1      535580    536743      RM_Type_I   \n",
       "11  NZ_CP022386.1     1179038   1182514  RM_Type_IIG_2   \n",
       "12  NZ_CP022412.2      783909    785102     RM_Type_II   \n",
       "13  NZ_CP023501.1      204820    206019      RM_Type_I   \n",
       "14  NZ_CP033021.1      451744    453504      RM_Type_I   \n",
       "15  NZ_CP033021.1      746980    748173      RM_Type_I   \n",
       "16  NZ_CP034841.1      705293    706480      RM_Type_I   \n",
       "17  NZ_CP034841.1      706535    707794      RM_Type_I   \n",
       "18  NZ_CP048837.1     1907663   1908868      RM_Type_I   \n",
       "19  NZ_LR134404.1     1004881   1008288  RM_Type_IIG_2   \n",
       "20  NZ_LR698957.1     1422093   1423004      RM_Type_I   \n",
       "\n",
       "                                      Protein  start_inv  end_inv     inv_pos  \n",
       "0                             RM__Type_I_S_52     458806   459431  intragenic  \n",
       "1                             RM__Type_I_S_06    2222646  2223287     partial  \n",
       "2                             RM__Type_I_S_06    2224906  2225588     partial  \n",
       "3                 RM_Type_II__Type_II_REase09    1117051  1117107  intragenic  \n",
       "4                             RM__Type_I_S_52     474698   475058     partial  \n",
       "5   RM_Type_IIG__Type_IIG_FAM_1.einsi_trimmed      56673    56957  intragenic  \n",
       "6                             RM__Type_I_S_06     285303   285992     partial  \n",
       "7                             RM__Type_I_S_51     151107   151856     partial  \n",
       "8       RM__Type_I_REases_FAM_0.einsi_trimmed    3952518  3953266     partial  \n",
       "9                 RM_Type_II__Type_II_REase32    1743912  1744253  intragenic  \n",
       "10                            RM__Type_I_S_06     536092   536749     partial  \n",
       "11                    RM_Type_IIG__Type_IIG_4    1178813  1179274     partial  \n",
       "12          RM_Type_II__Type_II_MTases_FAM_42     783747   784134     partial  \n",
       "13                            RM__Type_I_S_51     205940   206230     partial  \n",
       "14                            RM__Type_I_S_51     452562   452634  intragenic  \n",
       "15                            RM__Type_I_S_01     747925   748033  intragenic  \n",
       "16                            RM__Type_I_S_51     705815   706564     partial  \n",
       "17                            RM__Type_I_S_04     705815   706564     partial  \n",
       "18                            RM__Type_I_S_06    1908142  1908886     partial  \n",
       "19  RM_Type_IIG__Type_IIG_FAM_0.einsi_trimmed    1004538  1005252     partial  \n",
       "20                            RM__Type_I_S_04    1422995  1423422     partial  "
      ]
     },
     "execution_count": 6,
     "metadata": {},
     "output_type": "execute_result"
    }
   ],
   "source": [
    "def get_inv_pos(row):\n",
    "    if row['start_prot'] < row['start_inv'] and row['end_prot'] > row['end_inv']:\n",
    "        return 'intragenic'\n",
    "    elif (row['start_prot'] > row['start_inv'] and row['end_prot'] > row['end_inv']) or \\\n",
    "         (row['start_prot'] < row['start_inv'] and row['end_prot'] < row['end_inv']):\n",
    "        return 'partial'\n",
    "    else:\n",
    "        return 'other'\n",
    "    \n",
    "pos['inv_pos'] = pos.apply(get_inv_pos, axis=1)\n",
    "pos"
   ]
  },
  {
   "cell_type": "markdown",
   "metadata": {},
   "source": [
    "## Work with the full genomes"
   ]
  },
  {
   "cell_type": "code",
   "execution_count": null,
   "metadata": {},
   "outputs": [],
   "source": [
    "grep -c \"RM__Type_I_S\" ./deffinder_global/part1/isolates_combined.part_001_defense_finder_genes.tsv\n",
    "154\n",
    "grep -c \"RM__Type_I_S\" ./deffinder_global/part2/isolates_combined.part_002_defense_finder_genes.tsv\n",
    "248\n",
    "grep -c \"RM__Type_I_S\" ./deffinder_global/part3/isolates_combined.part_003_defense_finder_genes.tsv\n",
    "253\n",
    "grep -c \"RM__Type_I_S\" ./deffinder_global/part4/isolates_combined.part_004_defense_finder_genes.tsv\n",
    "98\n",
    "grep -c \"RM__Type_I_S\" ./deffinder_global/part5/isolates_combined.part_005_defense_finder_genes.tsv\n",
    "98"
   ]
  },
  {
   "cell_type": "code",
   "execution_count": null,
   "metadata": {},
   "outputs": [],
   "source": [
    "wc -l ./deffinder_global/part5/isolates_combined.part_005_defense_finder_genes.tsv\n",
    "2155 ./deffinder_global/part5/isolates_combined.part_005_defense_finder_genes.tsv\n",
    "2095 ./deffinder_global/part4/isolates_combined.part_004_defense_finder_genes.tsv\n",
    "5997 ./deffinder_global/part3/isolates_combined.part_003_defense_finder_genes.tsv\n",
    "5233 ./deffinder_global/part2/isolates_combined.part_002_defense_finder_genes.tsv\n",
    "2904 ./deffinder_global/part1/isolates_combined.part_001_defense_finder_genes.tsv"
   ]
  },
  {
   "cell_type": "markdown",
   "metadata": {},
   "source": [
    "## Pictures and graphs"
   ]
  },
  {
   "cell_type": "code",
   "execution_count": 1,
   "metadata": {},
   "outputs": [],
   "source": [
    "import matplotlib.pyplot as plt\n",
    "import squarify"
   ]
  },
  {
   "cell_type": "code",
   "execution_count": null,
   "metadata": {},
   "outputs": [
    {
     "name": "stderr",
     "output_type": "stream",
     "text": [
      "findfont: Font family 'Montserrat-Bold' not found.\n",
      "findfont: Font family 'Montserrat-Bold' not found.\n",
      "findfont: Font family 'Montserrat-Bold' not found.\n",
      "findfont: Font family 'Montserrat-Bold' not found.\n",
      "findfont: Font family 'Montserrat-Bold' not found.\n",
      "findfont: Font family 'Montserrat-Bold' not found.\n",
      "findfont: Font family 'Montserrat-Bold' not found.\n",
      "findfont: Font family 'Montserrat-Bold' not found.\n",
      "findfont: Font family 'Montserrat-Bold' not found.\n",
      "findfont: Font family 'Montserrat-Bold' not found.\n",
      "findfont: Font family 'Montserrat-Bold' not found.\n",
      "findfont: Font family 'Montserrat-Bold' not found.\n",
      "findfont: Font family 'Montserrat-Bold' not found.\n",
      "findfont: Font family 'Montserrat-Bold' not found.\n",
      "findfont: Font family 'Montserrat-Bold' not found.\n",
      "findfont: Font family 'Montserrat-Bold' not found.\n",
      "findfont: Font family 'Montserrat-Bold' not found.\n",
      "findfont: Font family 'Montserrat-Bold' not found.\n",
      "findfont: Font family 'Montserrat-Bold' not found.\n",
      "findfont: Font family 'Montserrat-Bold' not found.\n",
      "findfont: Font family 'Montserrat-Bold' not found.\n",
      "findfont: Font family 'Montserrat-Bold' not found.\n",
      "findfont: Font family 'Montserrat-Bold' not found.\n",
      "findfont: Font family 'Montserrat-Bold' not found.\n",
      "findfont: Font family 'Montserrat-Bold' not found.\n",
      "findfont: Font family 'Montserrat-Bold' not found.\n",
      "findfont: Font family 'Montserrat-Bold' not found.\n",
      "findfont: Font family 'Montserrat-Bold' not found.\n",
      "findfont: Font family 'Montserrat-Bold' not found.\n",
      "findfont: Font family 'Montserrat-Bold' not found.\n",
      "findfont: Font family 'Montserrat-Bold' not found.\n",
      "findfont: Font family 'Montserrat-Bold' not found.\n",
      "findfont: Font family 'Montserrat-Bold' not found.\n",
      "findfont: Font family 'Montserrat-Bold' not found.\n",
      "findfont: Font family 'Montserrat-Bold' not found.\n",
      "findfont: Font family 'Montserrat-Bold' not found.\n",
      "findfont: Font family 'Montserrat-Bold' not found.\n",
      "findfont: Font family 'Montserrat-Bold' not found.\n",
      "findfont: Font family 'Montserrat-Bold' not found.\n",
      "findfont: Font family 'Montserrat-Bold' not found.\n",
      "findfont: Font family 'Montserrat-Bold' not found.\n",
      "findfont: Font family 'Montserrat-Bold' not found.\n",
      "findfont: Font family 'Montserrat-Bold' not found.\n"
     ]
    },
    {
     "data": {
      "image/png": "[encoded data removed]",
      "text/plain": [
       "<Figure size 500x500 with 1 Axes>"
      ]
     },
     "metadata": {},
     "output_type": "display_data"
    }
   ],
   "source": [
    "\n",
    "labels = ['RM_Type_I', '', 'RM_Type_II', '', 'RM_Type_IIG', '', 'PrrC']\n",
    "sizes = [14, 0.001, 3, 0.001, 3, 0.001, 1] \n",
    "\n",
    "labels_with_sizes = [f\"{label}\\n({size})\" if size != 0.001 else \"\" for label, size in zip(labels, sizes)]\n",
    "\n",
    "colors = plt.cm.Blues([0.3, 0, 0.5, 0, 0.7, 0, 0.9])\n",
    "\n",
    "plt.figure(figsize=(5, 5))\n",
    "squarify.plot(\n",
    "    sizes=sizes,\n",
    "    label=labels_with_sizes,\n",
    "    color=colors,\n",
    "    alpha=0.7,\n",
    "    pad=True,\n",
    "    text_kwargs={'fontsize': 12, 'weight': 'bold', 'color': '#333333'}\n",
    ")\n",
    "\n",
    "plt.title('Defense systems with invertons', fontsize=16, weight='bold', color='#333333')\n",
    "plt.axis('off')\n",
    "plt.show()"
   ]
  },
  {
   "cell_type": "code",
   "execution_count": null,
   "metadata": {},
   "outputs": [
    {
     "name": "stderr",
     "output_type": "stream",
     "text": [
      "findfont: Font family 'Montserrat-Bold' not found.\n",
      "findfont: Font family 'Montserrat-Bold' not found.\n",
      "findfont: Font family 'Montserrat-Bold' not found.\n",
      "findfont: Font family 'Montserrat-Bold' not found.\n",
      "findfont: Font family 'Montserrat-Bold' not found.\n",
      "findfont: Font family 'Montserrat-Bold' not found.\n",
      "findfont: Font family 'Montserrat-Bold' not found.\n",
      "findfont: Font family 'Montserrat-Bold' not found.\n",
      "findfont: Font family 'Montserrat-Bold' not found.\n",
      "findfont: Font family 'Montserrat-Bold' not found.\n",
      "findfont: Font family 'Montserrat-Bold' not found.\n",
      "findfont: Font family 'Montserrat-Bold' not found.\n",
      "findfont: Font family 'Montserrat-Bold' not found.\n",
      "findfont: Font family 'Montserrat-Bold' not found.\n",
      "findfont: Font family 'Montserrat-Bold' not found.\n",
      "findfont: Font family 'Montserrat-Bold' not found.\n",
      "findfont: Font family 'Montserrat-Bold' not found.\n",
      "findfont: Font family 'Montserrat-Bold' not found.\n",
      "findfont: Font family 'Montserrat-Bold' not found.\n",
      "findfont: Font family 'Montserrat-Bold' not found.\n",
      "findfont: Font family 'Montserrat-Bold' not found.\n",
      "findfont: Font family 'Montserrat-Bold' not found.\n",
      "findfont: Font family 'Montserrat-Bold' not found.\n",
      "findfont: Font family 'Montserrat-Bold' not found.\n",
      "findfont: Font family 'Montserrat-Bold' not found.\n",
      "findfont: Font family 'Montserrat-Bold' not found.\n",
      "findfont: Font family 'Montserrat-Bold' not found.\n",
      "findfont: Font family 'Montserrat-Bold' not found.\n",
      "findfont: Font family 'Montserrat-Bold' not found.\n",
      "findfont: Font family 'Montserrat-Bold' not found.\n",
      "findfont: Font family 'Montserrat-Bold' not found.\n",
      "findfont: Font family 'Montserrat-Bold' not found.\n",
      "findfont: Font family 'Montserrat-Bold' not found.\n",
      "findfont: Font family 'Montserrat-Bold' not found.\n",
      "findfont: Font family 'Montserrat-Bold' not found.\n",
      "findfont: Font family 'Montserrat-Bold' not found.\n",
      "findfont: Font family 'Montserrat-Bold' not found.\n",
      "findfont: Font family 'Montserrat-Bold' not found.\n",
      "findfont: Font family 'Montserrat-Bold' not found.\n",
      "findfont: Font family 'Montserrat-Bold' not found.\n",
      "findfont: Font family 'Montserrat-Bold' not found.\n",
      "findfont: Font family 'Montserrat-Bold' not found.\n",
      "findfont: Font family 'Montserrat-Bold' not found.\n"
     ]
    },
    {
     "data": {
      "image/png": "[encoded data removed]",
      "text/plain": [
       "<Figure size 500x500 with 1 Axes>"
      ]
     },
     "metadata": {},
     "output_type": "display_data"
    }
   ],
   "source": [
    "labels = ['S_subunit', 'RM_Type_IIG', 'RE', 'ME']\n",
    "sizes = [14, 3, 3, 1]  # Количество защитных систем\n",
    "\n",
    "labels_with_sizes = [f\"{label}\\n({size})\" if size != 0.001 else \"\" for label, size in zip(labels, sizes)]\n",
    "\n",
    "colors = plt.cm.Blues([0.8, 0.6, 0.4, 1.0])\n",
    "\n",
    "plt.figure(figsize=(5, 5))\n",
    "squarify.plot(\n",
    "    sizes=sizes,\n",
    "    label=labels_with_sizes,\n",
    "    color=colors,\n",
    "    alpha=0.7,\n",
    "    pad=True,\n",
    "    text_kwargs={'fontsize': 12, 'weight': 'bold', 'color': '#333333'}\n",
    ")\n",
    "\n",
    "plt.title('Genes with inversion events', fontsize=16, weight='bold', color='#333333')\n",
    "plt.axis('off')\n",
    "plt.show()"
   ]
  },
  {
   "cell_type": "code",
   "execution_count": 12,
   "metadata": {},
   "outputs": [],
   "source": [
    "import numpy as np"
   ]
  },
  {
   "cell_type": "code",
   "execution_count": 4,
   "metadata": {},
   "outputs": [
    {
     "data": {
      "image/png": "[encoded data removed]",
      "text/plain": [
       "<Figure size 800x600 with 1 Axes>"
      ]
     },
     "metadata": {},
     "output_type": "display_data"
    }
   ],
   "source": [
    "labels = ['invertons \\n 84.45%', 'invertons within defense genes \\n 0.45%', 'invertons within defense islands \\n 15.1%']\n",
    "sizes = [(4623-719-21)/4623*100, 21/4623*100, (719-21)/4623*100]\n",
    "colors = plt.cm.Blues([0.4, 1.2, 0.7])\n",
    "\n",
    "plt.figure(figsize=(8, 6))\n",
    "wedges, texts, autotexts = plt.pie(\n",
    "    sizes,\n",
    "    labels=labels,\n",
    "    colors=colors,\n",
    "    startangle=190,\n",
    "    textprops={'weight': 'bold', 'fontsize': 14, 'color' : '#333333'},\n",
    "    autopct=''\n",
    ")\n",
    "\n",
    "plt.title('Invertons associated with defense systems', fontsize=16, weight='bold', color='#333333')\n",
    "plt.axis('equal')\n",
    "plt.show()"
   ]
  },
  {
   "cell_type": "code",
   "execution_count": 43,
   "metadata": {},
   "outputs": [
    {
     "data": {
      "image/png": "[encoded data removed]",
      "text/plain": [
       "<Figure size 800x600 with 1 Axes>"
      ]
     },
     "metadata": {},
     "output_type": "display_data"
    }
   ],
   "source": [
    "labels = ['defense \\n systems \\n 99.9%', 'defense systems with invertons \\n 0.1%']\n",
    "sizes = [(17569)/(17569)*100, 21/(17569)*100]\n",
    "colors = plt.cm.Blues([0.3, 1.0])\n",
    "\n",
    "plt.figure(figsize=(8, 6))\n",
    "wedges, texts, autotexts = plt.pie(\n",
    "    sizes,\n",
    "    labels=labels,\n",
    "    colors=colors,\n",
    "    startangle=140,\n",
    "    textprops={'weight': 'bold', 'fontsize': 14, 'color' : '#333333'},\n",
    "    autopct=''\n",
    ")\n",
    "\n",
    "plt.title('Defense systems with inversion events', fontsize=16, weight='bold', color='#333333')\n",
    "plt.axis('equal')\n",
    "plt.show()"
   ]
  },
  {
   "cell_type": "code",
   "execution_count": 3,
   "metadata": {},
   "outputs": [
    {
     "data": {
      "image/png": "[encoded data removed]",
      "text/plain": [
       "<Figure size 800x600 with 1 Axes>"
      ]
     },
     "metadata": {},
     "output_type": "display_data"
    }
   ],
   "source": [
    "labels = ['S_total', 'S_invertion']\n",
    "sizes = [(851-14)/851*100, 14/851*100]\n",
    "colors = ['lightcoral', 'lightskyblue']\n",
    "\n",
    "plt.figure(figsize=(8, 6))\n",
    "plt.pie(sizes, labels=labels, colors=colors, autopct='%1.1f%%',  startangle=140)\n",
    "plt.title(\"Overal_S-subunits\")\n",
    "plt.axis('equal')\n",
    "plt.show()"
   ]
  },
  {
   "cell_type": "code",
   "execution_count": 7,
   "metadata": {},
   "outputs": [
    {
     "data": {
      "image/png": "[encoded data removed]",
      "text/plain": [
       "<Figure size 800x600 with 1 Axes>"
      ]
     },
     "metadata": {},
     "output_type": "display_data"
    }
   ],
   "source": [
    "labels = ['IIG_total', 'IIG_invertion']\n",
    "sizes = [(21-3)/21*100, 3/21*100]\n",
    "colors = ['lightcoral', 'lightskyblue']\n",
    "\n",
    "plt.figure(figsize=(8, 6))\n",
    "plt.pie(sizes, labels=labels, colors=colors, autopct='%1.1f%%',  startangle=140)\n",
    "\n",
    "plt.axis('equal')\n",
    "plt.show()"
   ]
  },
  {
   "cell_type": "markdown",
   "metadata": {},
   "source": [
    "### Domain visualization - preliminary work"
   ]
  },
  {
   "cell_type": "markdown",
   "metadata": {},
   "source": [
    "### Domain coordinates for proteins of interest"
   ]
  },
  {
   "cell_type": "markdown",
   "metadata": {},
   "source": [
    "I pulled out the necessary 6-tree sequences from the file from Prodigal for three examples with my hands, eyes and a calculator. I ran them in hmmer (pfam_results_.domtblout results)."
   ]
  },
  {
   "cell_type": "code",
   "execution_count": null,
   "metadata": {},
   "outputs": [],
   "source": [
    "hmmscan --cpu 8 --domtblout domains_intersected_proteins.txt ./Pfam/Pfam-A.hmm\n",
    " ./all_intersected_proteins.txt"
   ]
  },
  {
   "cell_type": "code",
   "execution_count": null,
   "metadata": {},
   "outputs": [],
   "source": [
    "grep -v \"^#\" pfam_results_.domtblout  | awk '{print $1, $4, $18, $19}' > domains_coords.tsv"
   ]
  },
  {
   "cell_type": "markdown",
   "metadata": {},
   "source": [
    "### Domain coordinates transformation"
   ]
  },
  {
   "cell_type": "code",
   "execution_count": null,
   "metadata": {},
   "outputs": [],
   "source": [
    "import pandas as pd\n",
    "\n",
    "# Загрузить домены и гены\n",
    "domains = pd.read_csv(\"domains_intersected_prots_coords.tsv\", sep=\" \", names=[\"domain\", \"protein_id\", \"aa_start\", \"aa_end\"])\n",
    "genes = pd.read_csv(\"genes_fixed_trouble.txt\", sep=\"\\t\", comment='#', names=[\"chr\", \"start\", \"end\"], header=None)\n",
    "\n",
    "# Конвертация с проверками\n",
    "results = []\n",
    "for _, row in domains.iterrows():\n",
    "    gene = genes[genes[\"chr\"] == row[\"protein_id\"]]\n",
    "    \n",
    "    if gene.empty:\n",
    "        print(f\"Предупреждение: ген {row['protein_id']} не найден в таблице генов\")\n",
    "        continue\n",
    "    \n",
    "    gene_data = gene.iloc[0]\n",
    "    dna_start = gene_data[\"start\"] + (row[\"aa_start\"] * 3)\n",
    "    dna_end = gene_data[\"start\"] + (row[\"aa_end\"] * 3)\n",
    "    \n",
    "    # Проверка, что координаты в пределах гена\n",
    "    if dna_end > gene_data[\"end\"]:\n",
    "        print(f\"Предупреждение: домен {row['domain']} выходит за границы гена {row['protein_id']}\")\n",
    "        continue\n",
    "    \n",
    "    results.append({\n",
    "        \"chr\": gene_data[\"chr\"],\n",
    "        \"start\": dna_start,\n",
    "        \"end\": dna_end,\n",
    "        \"domain\": row[\"domain\"]\n",
    "    })\n",
    "\n",
    "# Сохранить результаты\n",
    "result_df = pd.DataFrame(results)\n",
    "result_df.to_csv(\"converted_domains_trouble.tsv\", sep=\"\\t\", index=False, header=False)"
   ]
  },
  {
   "cell_type": "code",
   "execution_count": 2,
   "metadata": {},
   "outputs": [
    {
     "data": {
      "text/html": [
       "<div>\n",
       "<style scoped>\n",
       "    .dataframe tbody tr th:only-of-type {\n",
       "        vertical-align: middle;\n",
       "    }\n",
       "\n",
       "    .dataframe tbody tr th {\n",
       "        vertical-align: top;\n",
       "    }\n",
       "\n",
       "    .dataframe thead th {\n",
       "        text-align: right;\n",
       "    }\n",
       "</style>\n",
       "<table border=\"1\" class=\"dataframe\">\n",
       "  <thead>\n",
       "    <tr style=\"text-align: right;\">\n",
       "      <th></th>\n",
       "      <th>chr</th>\n",
       "      <th>start</th>\n",
       "      <th>end</th>\n",
       "      <th>domain</th>\n",
       "    </tr>\n",
       "  </thead>\n",
       "  <tbody>\n",
       "    <tr>\n",
       "      <th>0</th>\n",
       "      <td>NC_008533.2_438806_479431_17</td>\n",
       "      <td>458325</td>\n",
       "      <td>458643</td>\n",
       "      <td>Methylase_S</td>\n",
       "    </tr>\n",
       "    <tr>\n",
       "      <th>1</th>\n",
       "      <td>NC_008533.2_438806_479431_17</td>\n",
       "      <td>458934</td>\n",
       "      <td>459399</td>\n",
       "      <td>Methylase_S</td>\n",
       "    </tr>\n",
       "    <tr>\n",
       "      <th>2</th>\n",
       "      <td>NC_008533.2_438806_479431_17</td>\n",
       "      <td>458649</td>\n",
       "      <td>458766</td>\n",
       "      <td>DUF6291</td>\n",
       "    </tr>\n",
       "    <tr>\n",
       "      <th>3</th>\n",
       "      <td>NC_008533.2_438806_479431_17</td>\n",
       "      <td>459219</td>\n",
       "      <td>459255</td>\n",
       "      <td>DUF6291</td>\n",
       "    </tr>\n",
       "    <tr>\n",
       "      <th>4</th>\n",
       "      <td>NC_008533.2_438806_479431_17</td>\n",
       "      <td>458589</td>\n",
       "      <td>458664</td>\n",
       "      <td>Flagellin_C</td>\n",
       "    </tr>\n",
       "    <tr>\n",
       "      <th>...</th>\n",
       "      <td>...</td>\n",
       "      <td>...</td>\n",
       "      <td>...</td>\n",
       "      <td>...</td>\n",
       "    </tr>\n",
       "    <tr>\n",
       "      <th>118</th>\n",
       "      <td>NZ_LR698957.1_1402995_1443422_22</td>\n",
       "      <td>1422222</td>\n",
       "      <td>1422375</td>\n",
       "      <td>Fib_alpha</td>\n",
       "    </tr>\n",
       "    <tr>\n",
       "      <th>119</th>\n",
       "      <td>NZ_LR698957.1_1402995_1443422_22</td>\n",
       "      <td>1422858</td>\n",
       "      <td>1422984</td>\n",
       "      <td>Fib_alpha</td>\n",
       "    </tr>\n",
       "    <tr>\n",
       "      <th>120</th>\n",
       "      <td>NZ_LR698957.1_1402995_1443422_22</td>\n",
       "      <td>1422294</td>\n",
       "      <td>1422309</td>\n",
       "      <td>DUF5344</td>\n",
       "    </tr>\n",
       "    <tr>\n",
       "      <th>121</th>\n",
       "      <td>NZ_LR698957.1_1402995_1443422_22</td>\n",
       "      <td>1422762</td>\n",
       "      <td>1422798</td>\n",
       "      <td>DUF5344</td>\n",
       "    </tr>\n",
       "    <tr>\n",
       "      <th>122</th>\n",
       "      <td>NZ_LR698957.1_1402995_1443422_22</td>\n",
       "      <td>1422822</td>\n",
       "      <td>1422975</td>\n",
       "      <td>DUF5344</td>\n",
       "    </tr>\n",
       "  </tbody>\n",
       "</table>\n",
       "<p>123 rows × 4 columns</p>\n",
       "</div>"
      ],
      "text/plain": [
       "                                  chr    start      end       domain\n",
       "0        NC_008533.2_438806_479431_17   458325   458643  Methylase_S\n",
       "1        NC_008533.2_438806_479431_17   458934   459399  Methylase_S\n",
       "2        NC_008533.2_438806_479431_17   458649   458766      DUF6291\n",
       "3        NC_008533.2_438806_479431_17   459219   459255      DUF6291\n",
       "4        NC_008533.2_438806_479431_17   458589   458664  Flagellin_C\n",
       "..                                ...      ...      ...          ...\n",
       "118  NZ_LR698957.1_1402995_1443422_22  1422222  1422375    Fib_alpha\n",
       "119  NZ_LR698957.1_1402995_1443422_22  1422858  1422984    Fib_alpha\n",
       "120  NZ_LR698957.1_1402995_1443422_22  1422294  1422309      DUF5344\n",
       "121  NZ_LR698957.1_1402995_1443422_22  1422762  1422798      DUF5344\n",
       "122  NZ_LR698957.1_1402995_1443422_22  1422822  1422975      DUF5344\n",
       "\n",
       "[123 rows x 4 columns]"
      ]
     },
     "execution_count": 2,
     "metadata": {},
     "output_type": "execute_result"
    }
   ],
   "source": [
    "result_df "
   ]
  },
  {
   "cell_type": "markdown",
   "metadata": {},
   "source": [
    "## Metagenomic data"
   ]
  },
  {
   "cell_type": "markdown",
   "metadata": {},
   "source": [
    "At first I honestly tried to cut by inqs into a separate file for expanding the data base, but then I realized that something was going wrong. I redid it from the beginning."
   ]
  },
  {
   "cell_type": "markdown",
   "metadata": {},
   "source": [
    "Downloaded the posted sequences: https://zenodo.org/records/7662825, combined all the records\n",
    "\n",
    "```cat *.fasta.gz > concatenated_NEW.fasta.gz```\n",
    "\n",
    "```zcat ./concatenated_NEW.fasta.gz | grep '^>' | cut -d ' ' -f 1 | sed 's/^>//' >> sequence_ids_fasta_gz.txt```\n",
    "\n",
    "```awk -F '[:|-]' 'NR > 1 {print $1 \"\\t\" $2 \"\\t\" $3 \"\\t\" $4 \"\\t\" $5}' 41586_2024_7970_MOESM7.txt > contigs_cut.txt```\n",
    "\n",
    "```cut -f 1-5 contigs_cut.txt > contigs_cutcut.txt```\n",
    "\n",
    "```cut -f 1 ../contigs_cutcut.txt > ../ids_cut.txt```\n",
    "\n",
    "```grep -F -x -f ../ids_cut.txt ./LR_assemblies/sequence_ids_fasta_gz.txt > what.txt```\n",
    "\n",
    "NODE_162_length_103990_cov_16.470573\n",
    "\n",
    "NODE_233_length_72764_cov_9.904413\n",
    "\n",
    "NODE_261_length_67573_cov_9.838576\n",
    "\n",
    "NODE_275_length_64110_cov_3.794661\n",
    "\n",
    "NODE_4_length_713996_cov_35.592808\n",
    "\n",
    "NODE_1198_length_39517_cov_1.773833\n",
    "\n",
    "NODE_26331_length_1681_cov_2.987700\n",
    "\n",
    "NODE_1627_length_33841_cov_70.647487\n",
    "\n",
    "According to the contig names, there is an intersection of only these records.\n"
   ]
  }
 ],
 "metadata": {
  "kernelspec": {
   "display_name": "Python 3",
   "language": "python",
   "name": "python3"
  },
  "language_info": {
   "codemirror_mode": {
    "name": "ipython",
    "version": 3
   },
   "file_extension": ".py",
   "mimetype": "text/x-python",
   "name": "python",
   "nbconvert_exporter": "python",
   "pygments_lexer": "ipython3",
   "version": "3.12.2"
  }
 },
 "nbformat": 4,
 "nbformat_minor": 2
}
